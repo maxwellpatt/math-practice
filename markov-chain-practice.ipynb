{
 "cells": [
  {
   "cell_type": "code",
   "execution_count": 1,
   "metadata": {},
   "outputs": [],
   "source": [
    "import numpy as np"
   ]
  },
  {
   "cell_type": "code",
   "execution_count": null,
   "metadata": {},
   "outputs": [],
   "source": [
    "'''\n",
    "practice session from this video https://www.youtube.com/watch?v=b6yrn6FqTvs\n",
    "Q1: What are the odds of getting 3 heads in a row if heads has a probability p?\n",
    "Q2: What is the probability of ending on 3 heads in N tosses?\n",
    "Q3: What is the probability that 3 heads in a row happens at N?\n",
    "'''"
   ]
  },
  {
   "cell_type": "code",
   "execution_count": 39,
   "metadata": {},
   "outputs": [],
   "source": [
    "# Number of coin tosses\n",
    "N = 10\n",
    "\n",
    "P0 = np.array([[0.5, 0.5, 0, 0],\n",
    "               [0.5, 0, 0.5, 0],\n",
    "               [0.5, 0, 0, 0.5],\n",
    "               [0.5, 0, 0, 0.5]])\n",
    "\n",
    "P1 = np.array([[0.5, 0.5, 0, 0],\n",
    "               [0.5, 0, 0.5, 0],\n",
    "               [0.5, 0, 0, 0.5],\n",
    "               [0, 0, 0, 1]])"
   ]
  },
  {
   "cell_type": "code",
   "execution_count": 40,
   "metadata": {},
   "outputs": [],
   "source": [
    "\n",
    "hits = []\n",
    "\n",
    "# Simulation 1\n",
    "for i in range(10000):\n",
    "    chain = []\n",
    "    flag = True\n",
    "    for j in range(N):\n",
    "        X = np.random.choice([0,1], p = [1/2, 1/2])\n",
    "        chain.append(X)\n",
    "        if len(chain)>2:\n",
    "            if chain[-1] == 1 and chain[-2] == 1 and chain[-3] == 1:\n",
    "                hits.append(1)\n",
    "                flag = False\n",
    "                break\n",
    "    if flag:\n",
    "        hits.append(0)"
   ]
  },
  {
   "cell_type": "code",
   "execution_count": 41,
   "metadata": {},
   "outputs": [],
   "source": [
    "hits1 = []\n",
    "\n",
    "# Simulation 2\n",
    "for i in range(10000):\n",
    "    chain = []\n",
    "    flag = True\n",
    "    for j in range(N):\n",
    "        X = np.random.choice([0,1], p = [1/2, 1/2])\n",
    "        chain.append(X)\n",
    "    if chain[-1] == 1 and chain[-2] == 1 and chain[-3] == 1:\n",
    "        hits1.append(1)\n",
    "    if flag:\n",
    "        hits1.append(0)"
   ]
  },
  {
   "cell_type": "code",
   "execution_count": 42,
   "metadata": {},
   "outputs": [],
   "source": [
    "hits2 = []\n",
    "\n",
    "# Simulation 3\n",
    "for i in range(10000):\n",
    "    chain = []\n",
    "    chains = 0\n",
    "    falg = True\n",
    "    for j in range(N):\n",
    "        x = np.random.choice([0,1], p = [1/2, 1/2])\n",
    "        chain.append(X)\n",
    "        if len(chain)>2:\n",
    "            if chain[-1] == 1 and chain[-2] == 1 and chain[-3] == 1:\n",
    "                chains += 1\n",
    "    if chain[-1] == 1 and chain[-2] == 1 and chain[-3] == 1 and chains == 1:\n",
    "        hits2.append(1)\n",
    "    else:\n",
    "        hits2.append(0)\n"
   ]
  },
  {
   "cell_type": "code",
   "execution_count": 43,
   "metadata": {},
   "outputs": [
    {
     "name": "stdout",
     "output_type": "stream",
     "text": [
      "Simulated proabbility of seeing 3H chain in N tosses: 0.5069\n",
      "Simulated probability of seeing 3H chain at the end of N tosses: 0.10944874877549203\n",
      "Simulated probability of seeing 3H chain for the first time at the end of N tosses: 0.0\n",
      "Q1 0.5078125\n",
      "Q2 0.125\n",
      "Q3 0.04296875\n"
     ]
    }
   ],
   "source": [
    "print('Simulated proabbility of seeing 3H chain in N tosses:', np.mean(hits))\n",
    "print('Simulated probability of seeing 3H chain at the end of N tosses:', np.mean(hits1))\n",
    "print('Simulated probability of seeing 3H chain for the first time at the end of N tosses:', np.mean(hits2))\n",
    "print('Q1', np.linalg.matrix_power(P1, N)[0][3])\n",
    "print('Q2', np.linalg.matrix_power(P0, N)[0][3])\n",
    "print('Q3', np.linalg.matrix_power(P1, N)[0][3] - np.linalg.matrix_power(P1, N-1)[0][3])"
   ]
  },
  {
   "cell_type": "code",
   "execution_count": null,
   "metadata": {},
   "outputs": [],
   "source": []
  }
 ],
 "metadata": {
  "kernelspec": {
   "display_name": "base",
   "language": "python",
   "name": "python3"
  },
  "language_info": {
   "codemirror_mode": {
    "name": "ipython",
    "version": 3
   },
   "file_extension": ".py",
   "mimetype": "text/x-python",
   "name": "python",
   "nbconvert_exporter": "python",
   "pygments_lexer": "ipython3",
   "version": "3.8.8"
  }
 },
 "nbformat": 4,
 "nbformat_minor": 2
}
